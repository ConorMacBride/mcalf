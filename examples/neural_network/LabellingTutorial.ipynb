{
 "cells": [
  {
   "cell_type": "code",
   "execution_count": null,
   "metadata": {},
   "outputs": [],
   "source": [
    "import mcalf.models\n",
    "from mcalf.utils import normalise_spectrum\n",
    "import numpy as np\n",
    "from astropy.io import fits\n",
    "import matplotlib.pyplot as plt\n",
    "\n",
    "# Load data files\n",
    "\n",
    "wavelengths = np.loadtxt('wavelengths.csv', delimiter=',')  # Original wavelengths\n",
    "prefilter_response_wvscl = np.loadtxt('prefilter_response_wvscl.csv', delimiter=',')\n",
    "prefilter_response_main = np.loadtxt('prefilter_response_main.csv', delimiter=',')\n",
    "\n",
    "with fits.open('spectral_data.fits') as hdul:  # Raw spectral data\n",
    "    datacube = np.asarray(hdul[0].data, dtype=np.float64)"
   ]
  },
  {
   "cell_type": "code",
   "execution_count": null,
   "metadata": {},
   "outputs": [],
   "source": [
    "# Initialise the model that will use the labelled data\n",
    "model = mcalf.models.IBIS8542Model(original_wavelengths=wavelengths, prefilter_ref_main=prefilter_response_main, \n",
    "                                     prefilter_ref_wvscl=prefilter_response_wvscl)"
   ]
  },
  {
   "cell_type": "code",
   "execution_count": null,
   "metadata": {},
   "outputs": [],
   "source": [
    "# Select the points to label\n",
    "i_points, j_points = np.load('labelled_points.npy')"
   ]
  },
  {
   "cell_type": "code",
   "execution_count": null,
   "metadata": {},
   "outputs": [],
   "source": [
    "# Select the spectra to label from the data file\n",
    "raw_spectra = datacube[:, i_points, j_points].T"
   ]
  },
  {
   "cell_type": "code",
   "execution_count": null,
   "metadata": {},
   "outputs": [],
   "source": [
    "# Normalise each spectrum to be in range [0, 1]\n",
    "labelled_spectra = np.empty((len(raw_spectra), len(model.constant_wavelengths)))\n",
    "for i in range(len(labelled_spectra)):\n",
    "    labelled_spectra[i] = normalise_spectrum(raw_spectra[i], model=model)"
   ]
  },
  {
   "cell_type": "code",
   "execution_count": null,
   "metadata": {},
   "outputs": [],
   "source": [
    "# # Script to semi-automate the classification process\n",
    "\n",
    "# Type a number 0 - 4 for assign a classification to the plotted spectrum\n",
    "# Type 5 to skip and move on to the next spectrum\n",
    "# Type 'back' to move to the previous spectrum\n",
    "# Type 'exit' to give up (keeping ones already done)\n",
    "\n",
    "# The labels are present in the `labels` variable (-1 represents an unclassified spectrum)\n",
    "\n",
    "labels = np.full(len(labelled_spectra), -1, dtype=int)\n",
    "i = 0\n",
    "while i < len(labelled_spectra):\n",
    "    \n",
    "    # Show the spectrum to be classified along with description\n",
    "    plt.figure(figsize=(15, 10))\n",
    "    plt.plot(labelled_spectra[i])\n",
    "    plt.show()\n",
    "    print(\"i = {}\".format(i))\n",
    "    print(\"absorption --- both --- emission / skip\")\n",
    "    print(\"       0    1    2    3    4         5 \")\n",
    "    \n",
    "    # Ask for user's classification\n",
    "    classification = input('Type [0-4]:')\n",
    "    \n",
    "    try:  # Must be an integer\n",
    "        classification_int = int(classification)\n",
    "    except ValueError:\n",
    "        classification_int = -1  # Try current spectrum again\n",
    "    \n",
    "    if classification == 'back':\n",
    "        i -= 1  # Go back to the previous spectrum\n",
    "    elif classification == 'exit':\n",
    "        break  # Exit the loop, saving labels that were given\n",
    "    elif 0 <= classification_int <= 4:  # Valid classification\n",
    "        labels[i] = int(classification)  # Assign the classification to the spectrum\n",
    "        i += 1  # Move on to the next spectrum\n",
    "    elif classification_int == 5:\n",
    "        i += 1  # Skip and move on to the next spectrum\n",
    "    else:  # Invalid integer classification\n",
    "        i += 0  # Try current spectrum again"
   ]
  },
  {
   "cell_type": "code",
   "execution_count": null,
   "metadata": {},
   "outputs": [],
   "source": [
    "# Plot bar chart of classification populations\n",
    "unique, counts = np.unique(labels, return_counts=True)\n",
    "plt.figure()\n",
    "plt.bar(unique, counts)\n",
    "plt.title('Number of spectra in each classification')\n",
    "plt.xlabel('Classification')\n",
    "plt.ylabel('N_spectra')\n",
    "plt.show()"
   ]
  },
  {
   "cell_type": "code",
   "execution_count": null,
   "metadata": {},
   "outputs": [],
   "source": [
    "# Overplot the spectra of each classification\n",
    "for classification in unique:\n",
    "    plt.figure()\n",
    "    for spectrum in labelled_spectra[labels == classification]:\n",
    "        plt.plot(model.constant_wavelengths, spectrum)\n",
    "    plt.title('Classification {}'.format(classification))\n",
    "    plt.yticks([0, 1])\n",
    "    plt.show()"
   ]
  },
  {
   "cell_type": "code",
   "execution_count": null,
   "metadata": {},
   "outputs": [],
   "source": [
    "# Save the labelled spectra for use later\n",
    "np.save('labelled_data.npy', labelled_spectra)\n",
    "np.save('labels.npy', labels)"
   ]
  }
 ],
 "metadata": {
  "kernelspec": {
   "display_name": "Python 3",
   "language": "python",
   "name": "python3"
  },
  "language_info": {
   "codemirror_mode": {
    "name": "ipython",
    "version": 3
   },
   "file_extension": ".py",
   "mimetype": "text/x-python",
   "name": "python",
   "nbconvert_exporter": "python",
   "pygments_lexer": "ipython3",
   "version": "3.7.6"
  },
  "pycharm": {
   "stem_cell": {
    "cell_type": "raw",
    "source": [],
    "metadata": {
     "collapsed": false
    }
   }
  }
 },
 "nbformat": 4,
 "nbformat_minor": 4
}