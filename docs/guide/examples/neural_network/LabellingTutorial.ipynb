{
 "cells": [
  {
   "cell_type": "markdown",
   "metadata": {},
   "source": [
    "# Labelling Tutorial"
   ]
  },
  {
   "cell_type": "markdown",
   "metadata": {},
   "source": [
    "This Jupyter notebook provides a simple, semi-automated, method to produce a ground truth data set that can be used to train a neural network for use as a spectral shape classifier in the MCALF package. The following code can be adapted depending on the number of classifications that you want."
   ]
  },
  {
   "cell_type": "markdown",
   "metadata": {},
   "source": [
    "[Download LabellingTutorial.ipynb](https://mcalf.macbride.me/en/stable/guide/examples/neural_network/LabellingTutorial.ipynb)"
   ]
  },
  {
   "cell_type": "markdown",
   "metadata": {},
   "source": [
    "Load the required packages"
   ]
  },
  {
   "cell_type": "code",
   "execution_count": null,
   "metadata": {},
   "outputs": [],
   "source": [
    "import mcalf.models\n",
    "from mcalf.utils.spec import normalise_spectrum\n",
    "import requests\n",
    "import numpy as np\n",
    "from astropy.io import fits\n",
    "import matplotlib.pyplot as plt"
   ]
  },
  {
   "cell_type": "markdown",
   "source": [
    "Download sample data"
   ],
   "metadata": {}
  },
  {
   "cell_type": "code",
   "execution_count": null,
   "outputs": [],
   "source": [
    "path = 'https://raw.githubusercontent.com/ConorMacBride/mcalf/main/examples/data/ibis8542data/'\n",
    "\n",
    "for file in ('wavelengths.txt', 'spectra.fits'):\n",
    "    r = requests.get(path + file, allow_redirects=True)\n",
    "    with open(file, 'wb') as f:\n",
    "        f.write(r.content)"
   ],
   "metadata": {}
  },
  {
   "cell_type": "markdown",
   "metadata": {},
   "source": [
    "Load data files"
   ]
  },
  {
   "cell_type": "code",
   "execution_count": null,
   "metadata": {},
   "outputs": [],
   "source": [
    "wavelengths = np.loadtxt('wavelengths.txt')  # Original wavelengths\n",
    "\n",
    "with fits.open('spectra.fits') as hdul:  # Raw spectral data\n",
    "    datacube = np.asarray(hdul[0].data, dtype=np.float64)"
   ]
  },
  {
   "cell_type": "markdown",
   "metadata": {},
   "source": [
    "Initialise the model that will use the labelled data"
   ]
  },
  {
   "cell_type": "code",
   "execution_count": null,
   "metadata": {},
   "outputs": [],
   "source": [
    "model = mcalf.models.IBIS8542Model(original_wavelengths=wavelengths)"
   ]
  },
  {
   "cell_type": "markdown",
   "metadata": {},
   "source": [
    "Select the spectra to label"
   ]
  },
  {
   "cell_type": "code",
   "execution_count": null,
   "outputs": [],
   "source": [
    "n_points = 50\n",
    "\n",
    "flat_choice = np.random.choice(np.arange(datacube[0].size), n_points, replace=False)\n",
    "i_points, j_points = np.unravel_index(flat_choice, datacube[0].shape)\n",
    "np.save('labelled_points.npy', np.array([i_points, j_points]))"
   ],
   "metadata": {}
  },
  {
   "cell_type": "code",
   "execution_count": null,
   "metadata": {},
   "outputs": [],
   "source": [
    "i_points, j_points = np.load('labelled_points.npy')"
   ]
  },
  {
   "cell_type": "markdown",
   "metadata": {},
   "source": [
    "Select the spectra to label from the data file"
   ]
  },
  {
   "cell_type": "code",
   "execution_count": null,
   "metadata": {},
   "outputs": [],
   "source": [
    "raw_spectra = datacube[:, i_points, j_points].T"
   ]
  },
  {
   "cell_type": "markdown",
   "metadata": {},
   "source": [
    "Normalise each spectrum to be in range [0, 1]"
   ]
  },
  {
   "cell_type": "code",
   "execution_count": null,
   "metadata": {},
   "outputs": [],
   "source": [
    "labelled_spectra = np.empty((len(raw_spectra), len(model.constant_wavelengths)))\n",
    "for i in range(len(labelled_spectra)):\n",
    "    labelled_spectra[i] = normalise_spectrum(raw_spectra[i], model=model)"
   ]
  },
  {
   "cell_type": "markdown",
   "metadata": {},
   "source": [
    "## Script to semi-automate the classification process\n",
    "\n",
    "- Type a number 0 - 4 for assign a classification to the plotted spectrum\n",
    "- Type 5 to skip and move on to the next spectrum\n",
    "- Type `back` to move to the previous spectrum\n",
    "- Type `exit` to give up (keeping ones already done)\n",
    "\n",
    "The labels are present in the `labels` variable (-1 represents an unclassified spectrum)"
   ]
  },
  {
   "cell_type": "code",
   "execution_count": null,
   "metadata": {},
   "outputs": [],
   "source": [
    "labels = np.full(len(labelled_spectra), -1, dtype=int)\n",
    "i = 0\n",
    "while i < len(labelled_spectra):\n",
    "    \n",
    "    # Show the spectrum to be classified along with description\n",
    "    plt.figure(figsize=(15, 10))\n",
    "    plt.plot(labelled_spectra[i])\n",
    "    plt.show()\n",
    "    print(\"i = {}\".format(i))\n",
    "    print(\"absorption --- both --- emission / skip\")\n",
    "    print(\"       0    1    2    3    4         5 \")\n",
    "    \n",
    "    # Ask for user's classification\n",
    "    classification = input('Type [0-4]:')\n",
    "    \n",
    "    try:  # Must be an integer\n",
    "        classification_int = int(classification)\n",
    "    except ValueError:\n",
    "        classification_int = -1  # Try current spectrum again\n",
    "    \n",
    "    if classification == 'back':\n",
    "        i -= 1  # Go back to the previous spectrum\n",
    "    elif classification == 'exit':\n",
    "        break  # Exit the loop, saving labels that were given\n",
    "    elif 0 <= classification_int <= 4:  # Valid classification\n",
    "        labels[i] = int(classification)  # Assign the classification to the spectrum\n",
    "        i += 1  # Move on to the next spectrum\n",
    "    elif classification_int == 5:\n",
    "        i += 1  # Skip and move on to the next spectrum\n",
    "    else:  # Invalid integer classification\n",
    "        i += 0  # Try current spectrum again"
   ]
  },
  {
   "cell_type": "markdown",
   "metadata": {},
   "source": [
    "Plot bar chart of classification populations"
   ]
  },
  {
   "cell_type": "code",
   "execution_count": null,
   "metadata": {},
   "outputs": [],
   "source": [
    "unique, counts = np.unique(labels, return_counts=True)\n",
    "plt.figure()\n",
    "plt.bar(unique, counts)\n",
    "plt.title('Number of spectra in each classification')\n",
    "plt.xlabel('Classification')\n",
    "plt.ylabel('N_spectra')\n",
    "plt.show()"
   ]
  },
  {
   "cell_type": "markdown",
   "metadata": {},
   "source": [
    "Overplot the spectra of each classification"
   ]
  },
  {
   "cell_type": "code",
   "execution_count": null,
   "metadata": {},
   "outputs": [],
   "source": [
    "for classification in unique:\n",
    "    plt.figure()\n",
    "    for spectrum in labelled_spectra[labels == classification]:\n",
    "        plt.plot(model.constant_wavelengths, spectrum)\n",
    "    plt.title('Classification {}'.format(classification))\n",
    "    plt.yticks([0, 1])\n",
    "    plt.show()"
   ]
  },
  {
   "cell_type": "markdown",
   "metadata": {},
   "source": [
    "Save the labelled spectra for use later"
   ]
  },
  {
   "cell_type": "code",
   "execution_count": null,
   "metadata": {},
   "outputs": [],
   "source": [
    "np.save('labelled_data.npy', labelled_spectra)\n",
    "np.save('labels.npy', labels)"
   ]
  }
 ],
 "metadata": {
  "kernelspec": {
   "display_name": "Python 3",
   "language": "python",
   "name": "python3"
  },
  "language_info": {
   "codemirror_mode": {
    "name": "ipython",
    "version": 3
   },
   "file_extension": ".py",
   "mimetype": "text/x-python",
   "name": "python",
   "nbconvert_exporter": "python",
   "pygments_lexer": "ipython3",
   "version": "3.7.4"
  }
 },
 "nbformat": 4,
 "nbformat_minor": 4
}
